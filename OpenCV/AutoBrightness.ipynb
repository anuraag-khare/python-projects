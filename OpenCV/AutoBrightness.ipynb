{
 "cells": [
  {
   "cell_type": "code",
   "execution_count": null,
   "metadata": {},
   "outputs": [],
   "source": [
    "import cv2  # for face detection\n",
    "import wmi  # to control brightness\n",
    "\n",
    "# loading cascade\n",
    "faceCascade= cv2.CascadeClassifier(\"C:/Users/Anuraag/Downloads/haarcascade_frontalface_default.xml\")\n",
    "\n",
    "video_capture = cv2.VideoCapture(0)\n",
    "\n",
    "while True:\n",
    "    cap, img = video_capture.read()\n",
    "    img_gray = cv2.cvtColor(img, cv2.COLOR_BGR2GRAY)  # converting from BGR to grayscale\n",
    "\n",
    "    faces = faceCascade.detectMultiScale(\n",
    "        img_gray,\n",
    "        scaleFactor=1.1,\n",
    "        minNeighbors=2,\n",
    "        minSize=(30, 30)\n",
    "    )\n",
    "    # The detected objects are returned as a list of rectangles\n",
    "    if(len(faces)>0):       #condition to check for detected face\n",
    "            brightness = 90 # percentage [0-100]\n",
    "            obj = wmi.WMI(namespace='wmi')\n",
    "            methods = obj.WmiMonitorBrightnessMethods()[0]\n",
    "            methods.WmiSetBrightness(brightness, 0)\n",
    "    else:\n",
    "        brightness = 0 # percentage [0-100]\n",
    "        methods.WmiSetBrightness(brightness, 0)\n",
    "        \n",
    "    cv2.imshow(\"Output\",img)\n",
    "    if cv2.waitKey(1) & 0xFF == ord('q'):\n",
    "        break\n",
    "\n",
    "# When everything is done, release the capture \n",
    "# and set brightness to 50%\n",
    "methods.WmiSetBrightness(50, 0)\n",
    "video_capture.release()\n",
    "cv2.destroyAllWindows()"
   ]
  }
 ],
 "metadata": {
  "kernelspec": {
   "display_name": "Python 3",
   "language": "python",
   "name": "python3"
  },
  "language_info": {
   "codemirror_mode": {
    "name": "ipython",
    "version": 3
   },
   "file_extension": ".py",
   "mimetype": "text/x-python",
   "name": "python",
   "nbconvert_exporter": "python",
   "pygments_lexer": "ipython3",
   "version": "3.7.3"
  }
 },
 "nbformat": 4,
 "nbformat_minor": 2
}
